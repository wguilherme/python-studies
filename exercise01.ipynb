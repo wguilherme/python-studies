{
 "cells": [
  {
   "cell_type": "code",
   "execution_count": null,
   "metadata": {},
   "outputs": [],
   "source": [
    "text = \"\"\"Operadores de String\n",
    "Python oferece operadores para processar texto (ou seja, valores de string).\n",
    "Assim como os números, as strings podem ser comparadas usando operadores de comparação:\n",
    "==, !=, <, > e assim por diante.\n",
    "O operador ==, por exemplo, retorna True se as strings nos dois lados do operador tiverem o mesmo valor (Perkovic, p. 23, 2016).\n",
    "\"\"\"\n",
    "print(f\"Tamanho do text = {len(text)}\")\n",
    "text = text.lower()\n",
    "text = text.replace(\",\", \"\").replace(\".\", \"\").replace(\"(\", \"\").replace(\")\", \"\").replace(\"\\n\", \" \")\n",
    "lista_palavras = text.split()\n",
    "print(f\"Tamanho da lista de palavras = {len(lista_palavras)}\")\n",
    "\n",
    "total = lista_palavras.count(\"string\") + lista_palavras.count(\"strings\")\n",
    "\n",
    "print(f\"Quantidade de vezes que string ou strings aparecem = {total}\")"
   ]
  },
  {
   "cell_type": "code",
   "execution_count": null,
   "metadata": {},
   "outputs": [],
   "source": []
  }
 ],
 "metadata": {
  "interpreter": {
   "hash": "a50a56ef75b57f409163948a938e331fea20e4a5a5855acf5813497c7a041d44"
  },
  "kernelspec": {
   "display_name": "Python 3.9.7 ('base')",
   "language": "python",
   "name": "python3"
  },
  "language_info": {
   "codemirror_mode": {
    "name": "ipython",
    "version": 3
   },
   "file_extension": ".py",
   "mimetype": "text/x-python",
   "name": "python",
   "nbconvert_exporter": "python",
   "pygments_lexer": "ipython3",
   "version": "3.9.7"
  },
  "orig_nbformat": 4
 },
 "nbformat": 4,
 "nbformat_minor": 2
}
