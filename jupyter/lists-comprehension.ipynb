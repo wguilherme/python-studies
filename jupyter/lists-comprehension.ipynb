{
 "cells": [
  {
   "cell_type": "code",
   "execution_count": 4,
   "metadata": {},
   "outputs": [
    {
     "name": "stdout",
     "output_type": "stream",
     "text": [
      "Antes da listcomp =  ['Python', 'Java', 'JavaScript', 'C', 'C#', 'C++', 'Swift', 'Go', 'Kotlin']\n",
      "\n",
      "Depois da listcomp =  ['python', 'java', 'javascript', 'c', 'c#', 'c++', 'swift', 'go', 'kotlin']\n"
     ]
    }
   ],
   "source": [
    "linguagens = [\"Python\", \"Java\", \"JavaScript\", \"C\", \"C#\", \"C++\", \"Swift\", \"Go\", \"Kotlin\"]\n",
    "#linguagens = '''Python Java JavaScript C C# C++ Swift Go Kotlin'''.split() # Essa sintaxe produz o mesmo resultado que a linha 1\n",
    "\n",
    "print(\"Antes da listcomp = \", linguagens)\n",
    "\n",
    "linguagens = [item.lower() for item in linguagens]\n",
    "\n",
    "print(\"\\nDepois da listcomp = \", linguagens)"
   ]
  },
  {
   "cell_type": "code",
   "execution_count": 5,
   "metadata": {},
   "outputs": [
    {
     "name": "stdout",
     "output_type": "stream",
     "text": [
      "Antes da listcomp =  ['Python', 'Java', 'JavaScript', 'C', 'C#', 'C++', 'Swift', 'Go', 'Kotlin']\n",
      "\n",
      "Depois da listcomp =  ['python', 'java', 'javascript', 'c', 'c#', 'c++', 'swift', 'go', 'kotlin']\n"
     ]
    }
   ],
   "source": [
    "# listcomp\n",
    "linguagens = '''Python Java JavaScript C C# C++ Swift Go Kotlin'''.split()\n",
    "print(\"Antes da listcomp = \", linguagens)\n",
    "\n",
    "for i, item in enumerate(linguagens):\n",
    "    linguagens[i] = item.lower()\n",
    "    \n",
    "print(\"\\nDepois da listcomp = \", linguagens)"
   ]
  },
  {
   "cell_type": "code",
   "execution_count": 6,
   "metadata": {},
   "outputs": [
    {
     "name": "stdout",
     "output_type": "stream",
     "text": [
      "['Java', 'JavaScript']\n"
     ]
    }
   ],
   "source": [
    "# listcomp\n",
    "\n",
    "linguagens = '''Python Java JavaScript C C# C++ Swift Go Kotlin'''.split()\n",
    "\n",
    "linguagens_java = [item for item in linguagens if \"Java\" in item]\n",
    "\n",
    "print(linguagens_java)"
   ]
  },
  {
   "cell_type": "code",
   "execution_count": 8,
   "metadata": {},
   "outputs": [
    {
     "name": "stdout",
     "output_type": "stream",
     "text": [
      "['Java', 'JavaScript']\n"
     ]
    }
   ],
   "source": [
    "# listcomp\n",
    "\n",
    "linguagens = '''Python Java JavaScript C C# C++ Swift Go Kotlin'''.split()\n",
    "linguagens_java = []\n",
    "\n",
    "for item in linguagens:\n",
    "    if \"Java\" in item:\n",
    "        linguagens_java.append(item)\n",
    "\n",
    "print(linguagens_java)"
   ]
  }
 ],
 "metadata": {
  "interpreter": {
   "hash": "20bf69066c0dd38d51965b69d5e1b6e387082e3198ba56e97997ac55f4e50ad0"
  },
  "kernelspec": {
   "display_name": "Python 3.8.9 64-bit",
   "language": "python",
   "name": "python3"
  },
  "language_info": {
   "codemirror_mode": {
    "name": "ipython",
    "version": 3
   },
   "file_extension": ".py",
   "mimetype": "text/x-python",
   "name": "python",
   "nbconvert_exporter": "python",
   "pygments_lexer": "ipython3",
   "version": "3.8.9"
  },
  "orig_nbformat": 4
 },
 "nbformat": 4,
 "nbformat_minor": 2
}
