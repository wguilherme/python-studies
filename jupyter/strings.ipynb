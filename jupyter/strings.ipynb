{
 "cells": [
  {
   "cell_type": "code",
   "execution_count": 3,
   "metadata": {},
   "outputs": [
    {
     "name": "stdout",
     "output_type": "stream",
     "text": [
      "Tamanho do text = 348\n",
      "Words list length = 58\n",
      "Many times that words \"string\" or \"strings\" appear = 4\n"
     ]
    }
   ],
   "source": [
    "text = \"\"\"Operadores de String\n",
    "Python oferece operadores para processar texto (ou seja, valores de string).\n",
    "Assim como os números, as strings podem ser comparadas usando operadores de comparação:\n",
    "==, !=, <, > e assim por diante.\n",
    "O operador ==, por exemplo, retorna True se as strings nos dois lados do operador tiverem o mesmo valor (Perkovic, p. 23, 2016).\n",
    "\"\"\"\n",
    "print(f\"Tamanho do text = {len(text)}\")\n",
    "text = text.lower()\n",
    "text = text.replace(\",\", \"\").replace(\".\", \"\").replace(\"(\", \"\").replace(\")\", \"\").replace(\"\\n\", \" \")\n",
    "listWords = text.split()\n",
    "print(f\"Words list length = {len(listWords)}\")\n",
    "\n",
    "total = listWords.count(\"string\") + listWords.count(\"strings\")\n",
    "\n",
    "print(f'Many times that words \"string\" or \"strings\" appear = {total}')"
   ]
  },
  {
   "cell_type": "code",
   "execution_count": null,
   "metadata": {},
   "outputs": [],
   "source": []
  }
 ],
 "metadata": {
  "kernelspec": {
   "display_name": "Python 3",
   "language": "python",
   "name": "python3"
  },
  "language_info": {
   "codemirror_mode": {
    "name": "ipython",
    "version": 3
   },
   "file_extension": ".py",
   "mimetype": "text/x-python",
   "name": "python",
   "nbconvert_exporter": "python",
   "pygments_lexer": "ipython3",
   "version": "3.11.0"
  },
  "orig_nbformat": 4,
  "vscode": {
   "interpreter": {
    "hash": "1a1af0ee75eeea9e2e1ee996c87e7a2b11a0bebd85af04bb136d915cefc0abce"
   }
  }
 },
 "nbformat": 4,
 "nbformat_minor": 2
}
