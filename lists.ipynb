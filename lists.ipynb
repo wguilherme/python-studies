{
 "cells": [
  {
   "cell_type": "code",
   "execution_count": 21,
   "metadata": {},
   "outputs": [
    {
     "name": "stdout",
     "output_type": "stream",
     "text": [
      "Position = 0, value = a\n",
      "Position = 1, value = e\n",
      "Position = 2, value = i\n",
      "Position = 3, value = o\n",
      "Position = 4, value = u\n"
     ]
    }
   ],
   "source": [
    "vogais = ['a', 'e', 'i', 'o', 'u'] \n",
    "\n",
    "for vogal in vogais:\n",
    "  print(f'Position = {vogais.index(vogal)}, value = {vogal}')"
   ]
  },
  {
   "cell_type": "code",
   "execution_count": 22,
   "metadata": {},
   "outputs": [
    {
     "name": "stdout",
     "output_type": "stream",
     "text": [
      "Tipo de objeto vogais = <class 'list'>\n",
      "Position = 0, value = a\n",
      "Position = 1, value = e\n",
      "Position = 2, value = i\n",
      "Position = 3, value = o\n",
      "Position = 4, value = u\n"
     ]
    }
   ],
   "source": [
    "vogais = []\n",
    "print(f'Tipo de objeto vogais = {type(vogais)}')\n",
    "\n",
    "vogais.append('a')\n",
    "vogais.append('e')\n",
    "vogais.append('i')\n",
    "vogais.append('o')\n",
    "vogais.append('u')\n",
    "\n",
    "\n",
    "for p, x in enumerate(vogais):\n",
    "  print(f'Position = {p}, value = {x}')"
   ]
  },
  {
   "cell_type": "code",
   "execution_count": 27,
   "metadata": {},
   "outputs": [
    {
     "name": "stdout",
     "output_type": "stream",
     "text": [
      "True\n",
      "False\n",
      "False\n",
      "apple\n",
      "10\n",
      "1\n",
      "['apple', 'banana', 'cherry', 'durian', 'fig', 8.7, 5.2, 10, 3.5]\n",
      "['apple', 'banana', 'cherry', 'durian', 'fig', 'apple', 'banana', 'cherry', 'durian', 'fig']\n"
     ]
    }
   ],
   "source": [
    "fruits = ['apple', 'banana', 'cherry', 'durian', 'fig']\n",
    "scores  = [8.7, 5.2, 10, 3.5]\n",
    "\n",
    "print('apple' in fruits)\n",
    "print('mango' in fruits)\n",
    "print('apple' not in fruits)\n",
    "print(min(fruits))\n",
    "print(max(scores))\n",
    "print(fruits.count('fig'))\n",
    "print(fruits+scores)\n",
    "print(2*fruits)"
   ]
  },
  {
   "cell_type": "code",
   "execution_count": 28,
   "metadata": {},
   "outputs": [
    {
     "name": "stdout",
     "output_type": "stream",
     "text": [
      "Tamanho da lista = 6\n",
      "Posição = 0,\t valor = Python -----------------> tipo individual = <class 'str'>\n",
      "Posição = 1,\t valor = 30.61 -----------------> tipo individual = <class 'float'>\n",
      "Posição = 2,\t valor = Java -----------------> tipo individual = <class 'str'>\n",
      "Posição = 3,\t valor = 51 -----------------> tipo individual = <class 'int'>\n",
      "Posição = 4,\t valor = ['a', 'b', 20] -----------------> tipo individual = <class 'list'>\n",
      "Posição = 5,\t valor = maça -----------------> tipo individual = <class 'str'>\n",
      "\n",
      "Exemplos de slices:\n",
      "\n",
      "lista[1] =  30.61\n",
      "lista[0:2] =  ['Python', 30.61]\n",
      "lista[:2] =  ['Python', 30.61]\n",
      "lista[3:5] =  [51, ['a', 'b', 20]]\n",
      "lista[3:6] =  [51, ['a', 'b', 20], 'maça']\n",
      "lista[3:] =  [51, ['a', 'b', 20], 'maça']\n",
      "lista[-2] =  ['a', 'b', 20]\n",
      "lista[-1] =  maça\n",
      "lista[4][1] =  b\n"
     ]
    }
   ],
   "source": [
    "lista = ['Python', 30.61, \"Java\", 51 , ['a', 'b', 20], \"maça\"]\n",
    "\n",
    "print(f\"Tamanho da lista = {len(lista)}\")\n",
    "\n",
    "for i, item in enumerate(lista):\n",
    "    print(f\"Posição = {i},\\t valor = {item} -----------------> tipo individual = {type(item)}\")\n",
    "\n",
    "print(\"\\nExemplos de slices:\\n\")\n",
    "\n",
    "print(\"lista[1] = \", lista[1]) # value at position 1\n",
    "print(\"lista[0:2] = \", lista[0:2]) # values between 0 and 2\n",
    "print(\"lista[:2] = \", lista[:2]) # values before 2\n",
    "print(\"lista[3:5] = \", lista[3:5]) # values between 3 and 5\n",
    "print(\"lista[3:6] = \", lista[3:6]) # values between 3 and 6\n",
    "print(\"lista[3:] = \", lista[3:]) # values after 3\n",
    "print(\"lista[-2] = \", lista[-2]) # inverse index position -> penultimate value\n",
    "print(\"lista[-1] = \", lista[-1]) # inverse index position -> last value\n",
    "print(\"lista[4][1] = \", lista[4][1]) # value at position 1 of the list at position 4 (other list)"
   ]
  }
 ],
 "metadata": {
  "interpreter": {
   "hash": "a50a56ef75b57f409163948a938e331fea20e4a5a5855acf5813497c7a041d44"
  },
  "kernelspec": {
   "display_name": "Python 3.9.7 ('base')",
   "language": "python",
   "name": "python3"
  },
  "language_info": {
   "codemirror_mode": {
    "name": "ipython",
    "version": 3
   },
   "file_extension": ".py",
   "mimetype": "text/x-python",
   "name": "python",
   "nbconvert_exporter": "python",
   "pygments_lexer": "ipython3",
   "version": "3.9.7"
  },
  "orig_nbformat": 4
 },
 "nbformat": 4,
 "nbformat_minor": 2
}
