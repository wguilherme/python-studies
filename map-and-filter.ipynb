{
 "cells": [
  {
   "cell_type": "code",
   "execution_count": 4,
   "metadata": {},
   "outputs": [
    {
     "name": "stdout",
     "output_type": "stream",
     "text": [
      "Exemplo 1\n",
      "A nova lista é = <map object at 0x10b0db280>\n",
      "\n",
      "Agora sim, a nova lista é = ['python', 'java', 'javascript', 'c', 'c#', 'c++', 'swift', 'go', 'kotlin']\n",
      "\n",
      "\n",
      "Exemplo 2\n",
      "Lista com o número elevado a ele mesmo = [0, 1, 4, 9, 16, 25]\n",
      "\n"
     ]
    }
   ],
   "source": [
    "# example 1\n",
    "print(\"Exemplo 1\")\n",
    "linguagens = '''Python Java JavaScript C C# C++ Swift Go Kotlin'''.split()\n",
    "\n",
    "nova_lista = map(lambda x: x.lower(), linguagens)\n",
    "print(f\"A nova lista é = {nova_lista}\\n\")\n",
    "\n",
    "nova_lista = list(nova_lista)\n",
    "print(f\"Agora sim, a nova lista é = {nova_lista}\")\n",
    "\n",
    "\n",
    "# Exemplo 2\n",
    "print(\"\\n\\nExemplo 2\")\n",
    "numeros = [0, 1, 2, 3, 4, 5]\n",
    "\n",
    "quadrados = list(map(lambda x: x*x, numeros))\n",
    "print(f\"Lista com o número elevado a ele mesmo = {quadrados}\\n\")"
   ]
  },
  {
   "cell_type": "code",
   "execution_count": 5,
   "metadata": {},
   "outputs": [
    {
     "name": "stdout",
     "output_type": "stream",
     "text": [
      "[0, 2, 4, 6, 8, 10, 12, 14, 16, 18, 20]\n"
     ]
    }
   ],
   "source": [
    "numeros  = list(range(0, 21)) # create a list of numbers from 0 to 20\n",
    "\n",
    "numeros_pares = list(filter(lambda x: x % 2 == 0, numeros))\n",
    "\n",
    "print(numeros_pares)"
   ]
  },
  {
   "cell_type": "code",
   "execution_count": 8,
   "metadata": {},
   "outputs": [
    {
     "name": "stdout",
     "output_type": "stream",
     "text": [
      "Tipo do objeto vogais = <class 'tuple'>\n",
      "Posição = 0, valor = a\n",
      "Posição = 1, valor = e\n",
      "Posição = 2, valor = i\n",
      "Posição = 3, valor = o\n",
      "Posição = 4, valor = u\n"
     ]
    }
   ],
   "source": [
    "# touples are immutable\n",
    "\n",
    "vogais = ('a', 'e', 'i', 'o', 'u')\n",
    "print(f\"Tipo do objeto vogais = {type(vogais)}\")\n",
    "\n",
    "for p, x in enumerate(vogais):\n",
    "    print(f\"Posição = {p}, valor = {x}\")\n",
    "\n"
   ]
  },
  {
   "cell_type": "code",
   "execution_count": 11,
   "metadata": {},
   "outputs": [
    {
     "name": "stdout",
     "output_type": "stream",
     "text": [
      "(0, 'a')\n",
      "(1, 'e')\n",
      "(2, 'i')\n",
      "(3, 'o')\n",
      "(4, 'u')\n"
     ]
    }
   ],
   "source": [
    "vogais = ('a', 'e', 'i', 'o', 'u')\n",
    "\n",
    "for item in enumerate(vogais):\n",
    "    print(item)\n",
    "    \n",
    "# print(tuple(enumerate(vogais)))\n",
    "# print(list(enumerate(vogais)))"
   ]
  }
 ],
 "metadata": {
  "interpreter": {
   "hash": "20bf69066c0dd38d51965b69d5e1b6e387082e3198ba56e97997ac55f4e50ad0"
  },
  "kernelspec": {
   "display_name": "Python 3.8.9 64-bit",
   "language": "python",
   "name": "python3"
  },
  "language_info": {
   "codemirror_mode": {
    "name": "ipython",
    "version": 3
   },
   "file_extension": ".py",
   "mimetype": "text/x-python",
   "name": "python",
   "nbconvert_exporter": "python",
   "pygments_lexer": "ipython3",
   "version": "3.8.9"
  },
  "orig_nbformat": 4
 },
 "nbformat": 4,
 "nbformat_minor": 2
}
